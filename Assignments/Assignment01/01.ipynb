{
 "cells": [
  {
   "cell_type": "markdown",
   "metadata": {},
   "source": [
    "### **Prerequisites**"
   ]
  },
  {
   "cell_type": "code",
   "execution_count": 148,
   "metadata": {},
   "outputs": [],
   "source": [
    "import pandas as pd\n",
    "import altair as alt"
   ]
  },
  {
   "cell_type": "markdown",
   "metadata": {},
   "source": [
    "Видалимо першу стрічку, так як там непотрібна інформація"
   ]
  },
  {
   "cell_type": "code",
   "execution_count": 149,
   "metadata": {},
   "outputs": [
    {
     "data": {
      "text/html": [
       "<div>\n",
       "<style scoped>\n",
       "    .dataframe tbody tr th:only-of-type {\n",
       "        vertical-align: middle;\n",
       "    }\n",
       "\n",
       "    .dataframe tbody tr th {\n",
       "        vertical-align: top;\n",
       "    }\n",
       "\n",
       "    .dataframe thead th {\n",
       "        text-align: right;\n",
       "    }\n",
       "</style>\n",
       "<table border=\"1\" class=\"dataframe\">\n",
       "  <thead>\n",
       "    <tr style=\"text-align: right;\">\n",
       "      <th></th>\n",
       "      <th>Year</th>\n",
       "      <th>Jan</th>\n",
       "      <th>Feb</th>\n",
       "      <th>Mar</th>\n",
       "      <th>Apr</th>\n",
       "      <th>May</th>\n",
       "      <th>Jun</th>\n",
       "      <th>Jul</th>\n",
       "      <th>Aug</th>\n",
       "      <th>Sep</th>\n",
       "      <th>Oct</th>\n",
       "      <th>Nov</th>\n",
       "      <th>Dec</th>\n",
       "      <th>J-D</th>\n",
       "      <th>D-N</th>\n",
       "      <th>DJF</th>\n",
       "      <th>MAM</th>\n",
       "      <th>JJA</th>\n",
       "      <th>SON</th>\n",
       "    </tr>\n",
       "  </thead>\n",
       "  <tbody>\n",
       "    <tr>\n",
       "      <th>0</th>\n",
       "      <td>1880</td>\n",
       "      <td>-0.29</td>\n",
       "      <td>-0.18</td>\n",
       "      <td>-0.11</td>\n",
       "      <td>-0.19</td>\n",
       "      <td>-0.11</td>\n",
       "      <td>-0.23</td>\n",
       "      <td>-0.21</td>\n",
       "      <td>-0.09</td>\n",
       "      <td>-0.16</td>\n",
       "      <td>-0.23</td>\n",
       "      <td>-0.20</td>\n",
       "      <td>-0.23</td>\n",
       "      <td>-0.19</td>\n",
       "      <td>***</td>\n",
       "      <td>***</td>\n",
       "      <td>-0.14</td>\n",
       "      <td>-0.18</td>\n",
       "      <td>-0.20</td>\n",
       "    </tr>\n",
       "    <tr>\n",
       "      <th>1</th>\n",
       "      <td>1881</td>\n",
       "      <td>-0.15</td>\n",
       "      <td>-0.17</td>\n",
       "      <td>0.04</td>\n",
       "      <td>0.04</td>\n",
       "      <td>0.02</td>\n",
       "      <td>-0.20</td>\n",
       "      <td>-0.06</td>\n",
       "      <td>-0.02</td>\n",
       "      <td>-0.13</td>\n",
       "      <td>-0.20</td>\n",
       "      <td>-0.21</td>\n",
       "      <td>-0.10</td>\n",
       "      <td>-0.10</td>\n",
       "      <td>-.11</td>\n",
       "      <td>-.18</td>\n",
       "      <td>0.03</td>\n",
       "      <td>-0.09</td>\n",
       "      <td>-0.18</td>\n",
       "    </tr>\n",
       "    <tr>\n",
       "      <th>2</th>\n",
       "      <td>1882</td>\n",
       "      <td>0.15</td>\n",
       "      <td>0.15</td>\n",
       "      <td>0.04</td>\n",
       "      <td>-0.18</td>\n",
       "      <td>-0.16</td>\n",
       "      <td>-0.26</td>\n",
       "      <td>-0.20</td>\n",
       "      <td>-0.05</td>\n",
       "      <td>-0.10</td>\n",
       "      <td>-0.24</td>\n",
       "      <td>-0.16</td>\n",
       "      <td>-0.24</td>\n",
       "      <td>-0.10</td>\n",
       "      <td>-.09</td>\n",
       "      <td>.06</td>\n",
       "      <td>-0.10</td>\n",
       "      <td>-0.17</td>\n",
       "      <td>-0.17</td>\n",
       "    </tr>\n",
       "    <tr>\n",
       "      <th>3</th>\n",
       "      <td>1883</td>\n",
       "      <td>-0.31</td>\n",
       "      <td>-0.39</td>\n",
       "      <td>-0.13</td>\n",
       "      <td>-0.17</td>\n",
       "      <td>-0.20</td>\n",
       "      <td>-0.12</td>\n",
       "      <td>-0.08</td>\n",
       "      <td>-0.15</td>\n",
       "      <td>-0.20</td>\n",
       "      <td>-0.14</td>\n",
       "      <td>-0.22</td>\n",
       "      <td>-0.16</td>\n",
       "      <td>-0.19</td>\n",
       "      <td>-.20</td>\n",
       "      <td>-.31</td>\n",
       "      <td>-0.16</td>\n",
       "      <td>-0.12</td>\n",
       "      <td>-0.19</td>\n",
       "    </tr>\n",
       "    <tr>\n",
       "      <th>4</th>\n",
       "      <td>1884</td>\n",
       "      <td>-0.15</td>\n",
       "      <td>-0.08</td>\n",
       "      <td>-0.37</td>\n",
       "      <td>-0.42</td>\n",
       "      <td>-0.36</td>\n",
       "      <td>-0.40</td>\n",
       "      <td>-0.34</td>\n",
       "      <td>-0.26</td>\n",
       "      <td>-0.27</td>\n",
       "      <td>-0.24</td>\n",
       "      <td>-0.30</td>\n",
       "      <td>-0.28</td>\n",
       "      <td>-0.29</td>\n",
       "      <td>-.28</td>\n",
       "      <td>-.13</td>\n",
       "      <td>-0.39</td>\n",
       "      <td>-0.34</td>\n",
       "      <td>-0.27</td>\n",
       "    </tr>\n",
       "  </tbody>\n",
       "</table>\n",
       "</div>"
      ],
      "text/plain": [
       "   Year   Jan   Feb   Mar   Apr   May   Jun   Jul   Aug   Sep   Oct   Nov  \\\n",
       "0  1880 -0.29 -0.18 -0.11 -0.19 -0.11 -0.23 -0.21 -0.09 -0.16 -0.23 -0.20   \n",
       "1  1881 -0.15 -0.17  0.04  0.04  0.02 -0.20 -0.06 -0.02 -0.13 -0.20 -0.21   \n",
       "2  1882  0.15  0.15  0.04 -0.18 -0.16 -0.26 -0.20 -0.05 -0.10 -0.24 -0.16   \n",
       "3  1883 -0.31 -0.39 -0.13 -0.17 -0.20 -0.12 -0.08 -0.15 -0.20 -0.14 -0.22   \n",
       "4  1884 -0.15 -0.08 -0.37 -0.42 -0.36 -0.40 -0.34 -0.26 -0.27 -0.24 -0.30   \n",
       "\n",
       "    Dec   J-D   D-N   DJF   MAM   JJA   SON  \n",
       "0 -0.23 -0.19   ***   *** -0.14 -0.18 -0.20  \n",
       "1 -0.10 -0.10  -.11  -.18  0.03 -0.09 -0.18  \n",
       "2 -0.24 -0.10  -.09   .06 -0.10 -0.17 -0.17  \n",
       "3 -0.16 -0.19  -.20  -.31 -0.16 -0.12 -0.19  \n",
       "4 -0.28 -0.29  -.28  -.13 -0.39 -0.34 -0.27  "
      ]
     },
     "execution_count": 149,
     "metadata": {},
     "output_type": "execute_result"
    }
   ],
   "source": [
    "df = pd.read_csv('data/GLB.Ts_dSST.csv', skiprows=1)\n",
    "df.head()"
   ]
  },
  {
   "cell_type": "markdown",
   "metadata": {},
   "source": [
    "Видалимо непотрібні колонки"
   ]
  },
  {
   "cell_type": "code",
   "execution_count": 150,
   "metadata": {},
   "outputs": [
    {
     "data": {
      "text/html": [
       "<div>\n",
       "<style scoped>\n",
       "    .dataframe tbody tr th:only-of-type {\n",
       "        vertical-align: middle;\n",
       "    }\n",
       "\n",
       "    .dataframe tbody tr th {\n",
       "        vertical-align: top;\n",
       "    }\n",
       "\n",
       "    .dataframe thead th {\n",
       "        text-align: right;\n",
       "    }\n",
       "</style>\n",
       "<table border=\"1\" class=\"dataframe\">\n",
       "  <thead>\n",
       "    <tr style=\"text-align: right;\">\n",
       "      <th></th>\n",
       "      <th>Year</th>\n",
       "      <th>J-D</th>\n",
       "    </tr>\n",
       "  </thead>\n",
       "  <tbody>\n",
       "    <tr>\n",
       "      <th>0</th>\n",
       "      <td>1880</td>\n",
       "      <td>-0.19</td>\n",
       "    </tr>\n",
       "    <tr>\n",
       "      <th>1</th>\n",
       "      <td>1881</td>\n",
       "      <td>-0.10</td>\n",
       "    </tr>\n",
       "    <tr>\n",
       "      <th>2</th>\n",
       "      <td>1882</td>\n",
       "      <td>-0.10</td>\n",
       "    </tr>\n",
       "    <tr>\n",
       "      <th>3</th>\n",
       "      <td>1883</td>\n",
       "      <td>-0.19</td>\n",
       "    </tr>\n",
       "    <tr>\n",
       "      <th>4</th>\n",
       "      <td>1884</td>\n",
       "      <td>-0.29</td>\n",
       "    </tr>\n",
       "  </tbody>\n",
       "</table>\n",
       "</div>"
      ],
      "text/plain": [
       "   Year   J-D\n",
       "0  1880 -0.19\n",
       "1  1881 -0.10\n",
       "2  1882 -0.10\n",
       "3  1883 -0.19\n",
       "4  1884 -0.29"
      ]
     },
     "execution_count": 150,
     "metadata": {},
     "output_type": "execute_result"
    }
   ],
   "source": [
    "df.drop(df.columns.difference(['Year', 'J-D']), axis=1, inplace = True)\n",
    "df.head()"
   ]
  },
  {
   "cell_type": "markdown",
   "metadata": {},
   "source": [
    "Переіменуємо колонкии"
   ]
  },
  {
   "cell_type": "code",
   "execution_count": 151,
   "metadata": {},
   "outputs": [
    {
     "data": {
      "text/html": [
       "<div>\n",
       "<style scoped>\n",
       "    .dataframe tbody tr th:only-of-type {\n",
       "        vertical-align: middle;\n",
       "    }\n",
       "\n",
       "    .dataframe tbody tr th {\n",
       "        vertical-align: top;\n",
       "    }\n",
       "\n",
       "    .dataframe thead th {\n",
       "        text-align: right;\n",
       "    }\n",
       "</style>\n",
       "<table border=\"1\" class=\"dataframe\">\n",
       "  <thead>\n",
       "    <tr style=\"text-align: right;\">\n",
       "      <th></th>\n",
       "      <th>year</th>\n",
       "      <th>avg_temperature</th>\n",
       "    </tr>\n",
       "  </thead>\n",
       "  <tbody>\n",
       "    <tr>\n",
       "      <th>0</th>\n",
       "      <td>1880</td>\n",
       "      <td>-0.19</td>\n",
       "    </tr>\n",
       "    <tr>\n",
       "      <th>1</th>\n",
       "      <td>1881</td>\n",
       "      <td>-0.10</td>\n",
       "    </tr>\n",
       "    <tr>\n",
       "      <th>2</th>\n",
       "      <td>1882</td>\n",
       "      <td>-0.10</td>\n",
       "    </tr>\n",
       "    <tr>\n",
       "      <th>3</th>\n",
       "      <td>1883</td>\n",
       "      <td>-0.19</td>\n",
       "    </tr>\n",
       "    <tr>\n",
       "      <th>4</th>\n",
       "      <td>1884</td>\n",
       "      <td>-0.29</td>\n",
       "    </tr>\n",
       "  </tbody>\n",
       "</table>\n",
       "</div>"
      ],
      "text/plain": [
       "   year  avg_temperature\n",
       "0  1880            -0.19\n",
       "1  1881            -0.10\n",
       "2  1882            -0.10\n",
       "3  1883            -0.19\n",
       "4  1884            -0.29"
      ]
     },
     "execution_count": 151,
     "metadata": {},
     "output_type": "execute_result"
    }
   ],
   "source": [
    "df.columns = ['year', 'avg_temperature']\n",
    "df.head()"
   ]
  },
  {
   "cell_type": "code",
   "execution_count": 152,
   "metadata": {},
   "outputs": [
    {
     "data": {
      "text/plain": [
       "year                 int64\n",
       "avg_temperature    float64\n",
       "dtype: object"
      ]
     },
     "execution_count": 152,
     "metadata": {},
     "output_type": "execute_result"
    }
   ],
   "source": [
    "df.dtypes"
   ]
  },
  {
   "cell_type": "code",
   "execution_count": 153,
   "metadata": {},
   "outputs": [
    {
     "data": {
      "text/plain": [
       "138"
      ]
     },
     "execution_count": 153,
     "metadata": {},
     "output_type": "execute_result"
    }
   ],
   "source": [
    "len(df)"
   ]
  },
  {
   "cell_type": "code",
   "execution_count": 154,
   "metadata": {},
   "outputs": [
    {
     "data": {
      "text/html": [
       "\n",
       "<div id=\"altair-viz-7a8951ee56a542e9964617ddf4ee4fd8\"></div>\n",
       "<script type=\"text/javascript\">\n",
       "  (function(spec, embedOpt){\n",
       "    let outputDiv = document.currentScript.previousElementSibling;\n",
       "    if (outputDiv.id !== \"altair-viz-7a8951ee56a542e9964617ddf4ee4fd8\") {\n",
       "      outputDiv = document.getElementById(\"altair-viz-7a8951ee56a542e9964617ddf4ee4fd8\");\n",
       "    }\n",
       "    const paths = {\n",
       "      \"vega\": \"https://cdn.jsdelivr.net/npm//vega@5?noext\",\n",
       "      \"vega-lib\": \"https://cdn.jsdelivr.net/npm//vega-lib?noext\",\n",
       "      \"vega-lite\": \"https://cdn.jsdelivr.net/npm//vega-lite@4.8.1?noext\",\n",
       "      \"vega-embed\": \"https://cdn.jsdelivr.net/npm//vega-embed@6?noext\",\n",
       "    };\n",
       "\n",
       "    function loadScript(lib) {\n",
       "      return new Promise(function(resolve, reject) {\n",
       "        var s = document.createElement('script');\n",
       "        s.src = paths[lib];\n",
       "        s.async = true;\n",
       "        s.onload = () => resolve(paths[lib]);\n",
       "        s.onerror = () => reject(`Error loading script: ${paths[lib]}`);\n",
       "        document.getElementsByTagName(\"head\")[0].appendChild(s);\n",
       "      });\n",
       "    }\n",
       "\n",
       "    function showError(err) {\n",
       "      outputDiv.innerHTML = `<div class=\"error\" style=\"color:red;\">${err}</div>`;\n",
       "      throw err;\n",
       "    }\n",
       "\n",
       "    function displayChart(vegaEmbed) {\n",
       "      vegaEmbed(outputDiv, spec, embedOpt)\n",
       "        .catch(err => showError(`Javascript Error: ${err.message}<br>This usually means there's a typo in your chart specification. See the javascript console for the full traceback.`));\n",
       "    }\n",
       "\n",
       "    if(typeof define === \"function\" && define.amd) {\n",
       "      requirejs.config({paths});\n",
       "      require([\"vega-embed\"], displayChart, err => showError(`Error loading script: ${err.message}`));\n",
       "    } else if (typeof vegaEmbed === \"function\") {\n",
       "      displayChart(vegaEmbed);\n",
       "    } else {\n",
       "      loadScript(\"vega\")\n",
       "        .then(() => loadScript(\"vega-lite\"))\n",
       "        .then(() => loadScript(\"vega-embed\"))\n",
       "        .catch(showError)\n",
       "        .then(() => displayChart(vegaEmbed));\n",
       "    }\n",
       "  })({\"config\": {\"view\": {\"continuousWidth\": 400, \"continuousHeight\": 300}, \"axis\": {\"domain\": false, \"ticks\": false}, \"axisBottom\": {\"labelColor\": \"rgb(1   53,153,153)\", \"titleColor\": \"rgb(153,153,153)\"}, \"axisLeft\": {\"labelColor\": \"rgb(153,153,153)\", \"titleColor\": \"rgb(153,153,153)\"}}, \"layer\": [{\"data\": {\"name\": \"data-ba0b4469d145b130e62c8f635952a107\"}, \"mark\": {\"type\": \"point\", \"filled\": true, \"size\": 80}, \"encoding\": {\"color\": {\"value\": \"rgb(255,108,0)\"}, \"x\": {\"type\": \"quantitative\", \"axis\": {\"format\": \"1f\", \"tickCount\": 10}, \"field\": \"year\", \"scale\": {\"zero\": false}, \"title\": \"\"}, \"y\": {\"type\": \"quantitative\", \"axis\": {\"labelExpr\": \"datum.value > 0 ? \\\"+\\\" + datum.value + \\\"\\u00b0\\\" : datum.value + \\\"\\u00b0\\\"\", \"tickCount\": 10}, \"field\": \"avg_temperature\", \"title\": \"\"}}}, {\"data\": {\"name\": \"data-06fd9f850666401b4599de5588b60692\"}, \"mark\": \"rule\", \"encoding\": {\"y\": {\"type\": \"quantitative\", \"field\": \"y\"}}}], \"background\": \"#F9F9F9\", \"height\": 500, \"padding\": 50, \"width\": 900, \"$schema\": \"https://vega.github.io/schema/vega-lite/v4.8.1.json\", \"datasets\": {\"data-ba0b4469d145b130e62c8f635952a107\": [{\"year\": 1880, \"avg_temperature\": -0.19}, {\"year\": 1881, \"avg_temperature\": -0.1}, {\"year\": 1882, \"avg_temperature\": -0.1}, {\"year\": 1883, \"avg_temperature\": -0.19}, {\"year\": 1884, \"avg_temperature\": -0.29}, {\"year\": 1885, \"avg_temperature\": -0.31}, {\"year\": 1886, \"avg_temperature\": -0.32}, {\"year\": 1887, \"avg_temperature\": -0.35}, {\"year\": 1888, \"avg_temperature\": -0.18}, {\"year\": 1889, \"avg_temperature\": -0.11}, {\"year\": 1890, \"avg_temperature\": -0.37}, {\"year\": 1891, \"avg_temperature\": -0.24}, {\"year\": 1892, \"avg_temperature\": -0.27}, {\"year\": 1893, \"avg_temperature\": -0.32}, {\"year\": 1894, \"avg_temperature\": -0.32}, {\"year\": 1895, \"avg_temperature\": -0.22}, {\"year\": 1896, \"avg_temperature\": -0.11}, {\"year\": 1897, \"avg_temperature\": -0.12}, {\"year\": 1898, \"avg_temperature\": -0.28}, {\"year\": 1899, \"avg_temperature\": -0.18}, {\"year\": 1900, \"avg_temperature\": -0.09}, {\"year\": 1901, \"avg_temperature\": -0.15}, {\"year\": 1902, \"avg_temperature\": -0.3}, {\"year\": 1903, \"avg_temperature\": -0.39}, {\"year\": 1904, \"avg_temperature\": -0.49}, {\"year\": 1905, \"avg_temperature\": -0.29}, {\"year\": 1906, \"avg_temperature\": -0.23}, {\"year\": 1907, \"avg_temperature\": -0.4}, {\"year\": 1908, \"avg_temperature\": -0.44}, {\"year\": 1909, \"avg_temperature\": -0.48}, {\"year\": 1910, \"avg_temperature\": -0.44}, {\"year\": 1911, \"avg_temperature\": -0.43}, {\"year\": 1912, \"avg_temperature\": -0.36}, {\"year\": 1913, \"avg_temperature\": -0.35}, {\"year\": 1914, \"avg_temperature\": -0.16}, {\"year\": 1915, \"avg_temperature\": -0.12}, {\"year\": 1916, \"avg_temperature\": -0.33}, {\"year\": 1917, \"avg_temperature\": -0.43}, {\"year\": 1918, \"avg_temperature\": -0.28}, {\"year\": 1919, \"avg_temperature\": -0.27}, {\"year\": 1920, \"avg_temperature\": -0.25}, {\"year\": 1921, \"avg_temperature\": -0.17}, {\"year\": 1922, \"avg_temperature\": -0.27}, {\"year\": 1923, \"avg_temperature\": -0.24}, {\"year\": 1924, \"avg_temperature\": -0.25}, {\"year\": 1925, \"avg_temperature\": -0.21}, {\"year\": 1926, \"avg_temperature\": -0.09}, {\"year\": 1927, \"avg_temperature\": -0.2}, {\"year\": 1928, \"avg_temperature\": -0.19}, {\"year\": 1929, \"avg_temperature\": -0.35}, {\"year\": 1930, \"avg_temperature\": -0.15}, {\"year\": 1931, \"avg_temperature\": -0.1}, {\"year\": 1932, \"avg_temperature\": -0.17}, {\"year\": 1933, \"avg_temperature\": -0.3}, {\"year\": 1934, \"avg_temperature\": -0.14}, {\"year\": 1935, \"avg_temperature\": -0.21}, {\"year\": 1936, \"avg_temperature\": -0.16}, {\"year\": 1937, \"avg_temperature\": -0.04}, {\"year\": 1938, \"avg_temperature\": -0.03}, {\"year\": 1939, \"avg_temperature\": -0.03}, {\"year\": 1940, \"avg_temperature\": 0.11}, {\"year\": 1941, \"avg_temperature\": 0.18}, {\"year\": 1942, \"avg_temperature\": 0.05}, {\"year\": 1943, \"avg_temperature\": 0.07}, {\"year\": 1944, \"avg_temperature\": 0.21}, {\"year\": 1945, \"avg_temperature\": 0.09}, {\"year\": 1946, \"avg_temperature\": -0.07}, {\"year\": 1947, \"avg_temperature\": -0.04}, {\"year\": 1948, \"avg_temperature\": -0.11}, {\"year\": 1949, \"avg_temperature\": -0.11}, {\"year\": 1950, \"avg_temperature\": -0.19}, {\"year\": 1951, \"avg_temperature\": -0.07}, {\"year\": 1952, \"avg_temperature\": 0.01}, {\"year\": 1953, \"avg_temperature\": 0.07}, {\"year\": 1954, \"avg_temperature\": -0.15}, {\"year\": 1955, \"avg_temperature\": -0.14}, {\"year\": 1956, \"avg_temperature\": -0.2}, {\"year\": 1957, \"avg_temperature\": 0.04}, {\"year\": 1958, \"avg_temperature\": 0.07}, {\"year\": 1959, \"avg_temperature\": 0.03}, {\"year\": 1960, \"avg_temperature\": -0.02}, {\"year\": 1961, \"avg_temperature\": 0.06}, {\"year\": 1962, \"avg_temperature\": 0.04}, {\"year\": 1963, \"avg_temperature\": 0.07}, {\"year\": 1964, \"avg_temperature\": -0.2}, {\"year\": 1965, \"avg_temperature\": -0.1}, {\"year\": 1966, \"avg_temperature\": -0.05}, {\"year\": 1967, \"avg_temperature\": -0.02}, {\"year\": 1968, \"avg_temperature\": -0.07}, {\"year\": 1969, \"avg_temperature\": 0.07}, {\"year\": 1970, \"avg_temperature\": 0.03}, {\"year\": 1971, \"avg_temperature\": -0.09}, {\"year\": 1972, \"avg_temperature\": 0.01}, {\"year\": 1973, \"avg_temperature\": 0.16}, {\"year\": 1974, \"avg_temperature\": -0.08}, {\"year\": 1975, \"avg_temperature\": -0.02}, {\"year\": 1976, \"avg_temperature\": -0.11}, {\"year\": 1977, \"avg_temperature\": 0.17}, {\"year\": 1978, \"avg_temperature\": 0.06}, {\"year\": 1979, \"avg_temperature\": 0.16}, {\"year\": 1980, \"avg_temperature\": 0.27}, {\"year\": 1981, \"avg_temperature\": 0.33}, {\"year\": 1982, \"avg_temperature\": 0.13}, {\"year\": 1983, \"avg_temperature\": 0.31}, {\"year\": 1984, \"avg_temperature\": 0.16}, {\"year\": 1985, \"avg_temperature\": 0.12}, {\"year\": 1986, \"avg_temperature\": 0.18}, {\"year\": 1987, \"avg_temperature\": 0.33}, {\"year\": 1988, \"avg_temperature\": 0.41}, {\"year\": 1989, \"avg_temperature\": 0.29}, {\"year\": 1990, \"avg_temperature\": 0.44}, {\"year\": 1991, \"avg_temperature\": 0.41}, {\"year\": 1992, \"avg_temperature\": 0.22}, {\"year\": 1993, \"avg_temperature\": 0.24}, {\"year\": 1994, \"avg_temperature\": 0.31}, {\"year\": 1995, \"avg_temperature\": 0.44}, {\"year\": 1996, \"avg_temperature\": 0.33}, {\"year\": 1997, \"avg_temperature\": 0.47}, {\"year\": 1998, \"avg_temperature\": 0.62}, {\"year\": 1999, \"avg_temperature\": 0.4}, {\"year\": 2000, \"avg_temperature\": 0.4}, {\"year\": 2001, \"avg_temperature\": 0.54}, {\"year\": 2002, \"avg_temperature\": 0.62}, {\"year\": 2003, \"avg_temperature\": 0.61}, {\"year\": 2004, \"avg_temperature\": 0.53}, {\"year\": 2005, \"avg_temperature\": 0.67}, {\"year\": 2006, \"avg_temperature\": 0.62}, {\"year\": 2007, \"avg_temperature\": 0.64}, {\"year\": 2008, \"avg_temperature\": 0.52}, {\"year\": 2009, \"avg_temperature\": 0.63}, {\"year\": 2010, \"avg_temperature\": 0.7}, {\"year\": 2011, \"avg_temperature\": 0.58}, {\"year\": 2012, \"avg_temperature\": 0.61}, {\"year\": 2013, \"avg_temperature\": 0.64}, {\"year\": 2014, \"avg_temperature\": 0.73}, {\"year\": 2015, \"avg_temperature\": 0.86}, {\"year\": 2016, \"avg_temperature\": 0.99}, {\"year\": 2017, \"avg_temperature\": 0.9}], \"data-06fd9f850666401b4599de5588b60692\": [{\"y\": 0}]}}, {\"mode\": \"vega-lite\"});\n",
       "</script>"
      ],
      "text/plain": [
       "alt.LayerChart(...)"
      ]
     },
     "execution_count": 154,
     "metadata": {},
     "output_type": "execute_result"
    }
   ],
   "source": [
    "base = alt.Chart(df).mark_point(filled=True, size=80).encode(\n",
    "    x=alt.X(\n",
    "        field='year',\n",
    "        title='',\n",
    "        type='quantitative',\n",
    "        scale=alt.Scale(\n",
    "            zero=False\n",
    "        ),\n",
    "        axis=alt.Axis(\n",
    "            tickCount = 10,\n",
    "            format='1f'\n",
    "            )),\n",
    "    y=alt.Y(\n",
    "        field='avg_temperature',\n",
    "        title='',\n",
    "        type='quantitative',\n",
    "        axis=alt.Axis(\n",
    "            tickCount=10,\n",
    "            labelExpr='datum.value > 0 ? \"+\" + datum.value + \"\\u00b0\" : datum.value + \"\\u00b0\"'\n",
    "        )\n",
    "    ),\n",
    "    color=alt.value('rgb(255,108,0)'),\n",
    ")\n",
    "\n",
    "line = alt.Chart(pd.DataFrame({'y': [0]})).mark_rule().encode(y='y')\n",
    "\n",
    "(base + line).properties(\n",
    "    width=900,\n",
    "    height=500,\n",
    "    background='#F9F9F9',\n",
    "    padding=50\n",
    "    ).configure_axis(\n",
    "        domain = False,\n",
    "        ticks = False\n",
    "    ).configure_axisLeft(\n",
    "        labelColor='rgb(153,153,153)',\n",
    "        titleColor='rgb(153,153,153)'\n",
    "    ).configure_axisBottom(\n",
    "        labelColor='rgb(1   53,153,153)',\n",
    "        titleColor='rgb(153,153,153)'\n",
    "    )\n"
   ]
  },
  {
   "cell_type": "code",
   "execution_count": null,
   "metadata": {},
   "outputs": [],
   "source": []
  },
  {
   "cell_type": "code",
   "execution_count": null,
   "metadata": {},
   "outputs": [],
   "source": []
  },
  {
   "cell_type": "code",
   "execution_count": null,
   "metadata": {},
   "outputs": [],
   "source": []
  },
  {
   "cell_type": "code",
   "execution_count": null,
   "metadata": {},
   "outputs": [],
   "source": []
  }
 ],
 "metadata": {
  "interpreter": {
   "hash": "ce8f8e9438c7061b22cf85af6ac19f2507b58f1e4a3dbefe665409b2165bb783"
  },
  "kernelspec": {
   "display_name": "Python 3.8.5 64-bit (conda)",
   "name": "python3"
  },
  "language_info": {
   "codemirror_mode": {
    "name": "ipython",
    "version": 3
   },
   "file_extension": ".py",
   "mimetype": "text/x-python",
   "name": "python",
   "nbconvert_exporter": "python",
   "pygments_lexer": "ipython3",
   "version": "3.8.5"
  }
 },
 "nbformat": 4,
 "nbformat_minor": 4
}
